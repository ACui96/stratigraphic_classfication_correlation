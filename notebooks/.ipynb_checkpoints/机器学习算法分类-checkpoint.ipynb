{
 "cells": [
  {
   "cell_type": "code",
   "execution_count": 1,
   "id": "0970c046",
   "metadata": {},
   "outputs": [],
   "source": [
    "import pandas as pd"
   ]
  },
  {
   "cell_type": "markdown",
   "id": "d0a920e8",
   "metadata": {},
   "source": [
    "## 导数据"
   ]
  },
  {
   "cell_type": "markdown",
   "id": "3f5f11e6",
   "metadata": {},
   "source": [
    "该数据已做好归一化，待预测的值为Formation"
   ]
  },
  {
   "cell_type": "code",
   "execution_count": 2,
   "id": "8d0b1fb9",
   "metadata": {},
   "outputs": [],
   "source": [
    "data = pd.read_csv(r'../data/ciflog_scalared_fetures_med9.csv')"
   ]
  },
  {
   "cell_type": "code",
   "execution_count": 3,
   "id": "2d6389d2",
   "metadata": {
    "scrolled": true
   },
   "outputs": [
    {
     "data": {
      "text/html": [
       "<div>\n",
       "<style scoped>\n",
       "    .dataframe tbody tr th:only-of-type {\n",
       "        vertical-align: middle;\n",
       "    }\n",
       "\n",
       "    .dataframe tbody tr th {\n",
       "        vertical-align: top;\n",
       "    }\n",
       "\n",
       "    .dataframe thead th {\n",
       "        text-align: right;\n",
       "    }\n",
       "</style>\n",
       "<table border=\"1\" class=\"dataframe\">\n",
       "  <thead>\n",
       "    <tr style=\"text-align: right;\">\n",
       "      <th></th>\n",
       "      <th>Depth</th>\n",
       "      <th>GR</th>\n",
       "      <th>INPEFA</th>\n",
       "      <th>AC</th>\n",
       "      <th>SP</th>\n",
       "      <th>Well Name</th>\n",
       "      <th>Formation</th>\n",
       "      <th>GR_MED_3</th>\n",
       "      <th>GR_MED_5</th>\n",
       "      <th>GR_MED_7</th>\n",
       "      <th>GR_MED_9</th>\n",
       "      <th>GR_MED_11</th>\n",
       "      <th>GR_MED_13</th>\n",
       "      <th>GR_MED_15</th>\n",
       "      <th>GR_MED_17</th>\n",
       "      <th>GR_MED_19</th>\n",
       "    </tr>\n",
       "  </thead>\n",
       "  <tbody>\n",
       "    <tr>\n",
       "      <th>0</th>\n",
       "      <td>-0.129887</td>\n",
       "      <td>0.046275</td>\n",
       "      <td>-0.362624</td>\n",
       "      <td>0.004754</td>\n",
       "      <td>-0.521288</td>\n",
       "      <td>0</td>\n",
       "      <td>0</td>\n",
       "      <td>0.046275</td>\n",
       "      <td>0.046275</td>\n",
       "      <td>0.046275</td>\n",
       "      <td>0.046275</td>\n",
       "      <td>0.046275</td>\n",
       "      <td>0.046275</td>\n",
       "      <td>0.046275</td>\n",
       "      <td>0.046275</td>\n",
       "      <td>0.00114</td>\n",
       "    </tr>\n",
       "    <tr>\n",
       "      <th>1</th>\n",
       "      <td>-0.129605</td>\n",
       "      <td>0.143090</td>\n",
       "      <td>-0.319173</td>\n",
       "      <td>0.004754</td>\n",
       "      <td>-0.548649</td>\n",
       "      <td>0</td>\n",
       "      <td>0</td>\n",
       "      <td>0.143090</td>\n",
       "      <td>0.143090</td>\n",
       "      <td>0.143090</td>\n",
       "      <td>0.143090</td>\n",
       "      <td>0.143090</td>\n",
       "      <td>0.130847</td>\n",
       "      <td>0.062904</td>\n",
       "      <td>0.046275</td>\n",
       "      <td>0.00114</td>\n",
       "    </tr>\n",
       "    <tr>\n",
       "      <th>2</th>\n",
       "      <td>-0.129322</td>\n",
       "      <td>0.223431</td>\n",
       "      <td>-0.448877</td>\n",
       "      <td>0.004754</td>\n",
       "      <td>-0.539525</td>\n",
       "      <td>0</td>\n",
       "      <td>0</td>\n",
       "      <td>0.223431</td>\n",
       "      <td>0.223431</td>\n",
       "      <td>0.223431</td>\n",
       "      <td>0.223431</td>\n",
       "      <td>0.143090</td>\n",
       "      <td>0.130847</td>\n",
       "      <td>0.062904</td>\n",
       "      <td>0.046275</td>\n",
       "      <td>0.00114</td>\n",
       "    </tr>\n",
       "    <tr>\n",
       "      <th>3</th>\n",
       "      <td>-0.129040</td>\n",
       "      <td>0.435575</td>\n",
       "      <td>-0.672778</td>\n",
       "      <td>0.004754</td>\n",
       "      <td>-0.594247</td>\n",
       "      <td>0</td>\n",
       "      <td>0</td>\n",
       "      <td>0.353216</td>\n",
       "      <td>0.279095</td>\n",
       "      <td>0.223502</td>\n",
       "      <td>0.223431</td>\n",
       "      <td>0.143090</td>\n",
       "      <td>0.130847</td>\n",
       "      <td>0.062904</td>\n",
       "      <td>0.046275</td>\n",
       "      <td>0.00114</td>\n",
       "    </tr>\n",
       "    <tr>\n",
       "      <th>4</th>\n",
       "      <td>-0.128757</td>\n",
       "      <td>0.353216</td>\n",
       "      <td>-0.631148</td>\n",
       "      <td>0.004754</td>\n",
       "      <td>-0.621608</td>\n",
       "      <td>0</td>\n",
       "      <td>0</td>\n",
       "      <td>0.353216</td>\n",
       "      <td>0.279095</td>\n",
       "      <td>0.223502</td>\n",
       "      <td>0.223431</td>\n",
       "      <td>0.143090</td>\n",
       "      <td>0.130847</td>\n",
       "      <td>0.062904</td>\n",
       "      <td>0.046275</td>\n",
       "      <td>0.00114</td>\n",
       "    </tr>\n",
       "  </tbody>\n",
       "</table>\n",
       "</div>"
      ],
      "text/plain": [
       "      Depth        GR    INPEFA        AC        SP  Well Name  Formation  \\\n",
       "0 -0.129887  0.046275 -0.362624  0.004754 -0.521288          0          0   \n",
       "1 -0.129605  0.143090 -0.319173  0.004754 -0.548649          0          0   \n",
       "2 -0.129322  0.223431 -0.448877  0.004754 -0.539525          0          0   \n",
       "3 -0.129040  0.435575 -0.672778  0.004754 -0.594247          0          0   \n",
       "4 -0.128757  0.353216 -0.631148  0.004754 -0.621608          0          0   \n",
       "\n",
       "   GR_MED_3  GR_MED_5  GR_MED_7  GR_MED_9  GR_MED_11  GR_MED_13  GR_MED_15  \\\n",
       "0  0.046275  0.046275  0.046275  0.046275   0.046275   0.046275   0.046275   \n",
       "1  0.143090  0.143090  0.143090  0.143090   0.143090   0.130847   0.062904   \n",
       "2  0.223431  0.223431  0.223431  0.223431   0.143090   0.130847   0.062904   \n",
       "3  0.353216  0.279095  0.223502  0.223431   0.143090   0.130847   0.062904   \n",
       "4  0.353216  0.279095  0.223502  0.223431   0.143090   0.130847   0.062904   \n",
       "\n",
       "   GR_MED_17  GR_MED_19  \n",
       "0   0.046275    0.00114  \n",
       "1   0.046275    0.00114  \n",
       "2   0.046275    0.00114  \n",
       "3   0.046275    0.00114  \n",
       "4   0.046275    0.00114  "
      ]
     },
     "execution_count": 3,
     "metadata": {},
     "output_type": "execute_result"
    }
   ],
   "source": [
    "data.head()"
   ]
  },
  {
   "cell_type": "markdown",
   "id": "d76433a1",
   "metadata": {},
   "source": [
    "## 划分训练测试集"
   ]
  },
  {
   "cell_type": "code",
   "execution_count": 4,
   "id": "50586942",
   "metadata": {},
   "outputs": [],
   "source": [
    "y = data['Formation']\n",
    "X = data.drop(['Well Name', 'Formation'], axis=1).values\n",
    "from sklearn.model_selection import train_test_split\n",
    "X_train, X_test, y_train, y_test = train_test_split(X, y, test_size=0.4, random_state=0)"
   ]
  },
  {
   "cell_type": "code",
   "execution_count": 5,
   "id": "b55f2cc3",
   "metadata": {
    "scrolled": true
   },
   "outputs": [
    {
     "data": {
      "text/plain": [
       "((92284, 14), (92284,))"
      ]
     },
     "execution_count": 5,
     "metadata": {},
     "output_type": "execute_result"
    }
   ],
   "source": [
    "X.shape, y.shape"
   ]
  },
  {
   "cell_type": "markdown",
   "id": "b935be26",
   "metadata": {},
   "source": [
    "## 随机森林分类器"
   ]
  },
  {
   "cell_type": "code",
   "execution_count": 6,
   "id": "b9b8fc89",
   "metadata": {},
   "outputs": [],
   "source": [
    "# from sklearn.ensemble import RandomForestClassifier\n",
    "# classifier = RandomForestClassifier(n_estimators=50, criterion='entropy', random_state=42)\n",
    "# classifier.fit(X_train, y_train)"
   ]
  },
  {
   "cell_type": "code",
   "execution_count": 7,
   "id": "fb6066b8",
   "metadata": {},
   "outputs": [],
   "source": [
    "# y_pred = classifier.predict(X_test)"
   ]
  },
  {
   "cell_type": "code",
   "execution_count": 8,
   "id": "9991cf28",
   "metadata": {},
   "outputs": [],
   "source": [
    "# from sklearn.metrics import classification_report, confusion_matrix, accuracy_score\n",
    "# result = confusion_matrix(y_test, y_pred)\n",
    "# print(\"Confusion Matrix:\")\n",
    "# print(result)\n",
    "# result1 = classification_report(y_test, y_pred)\n",
    "# print(\"Classification Report:\", )\n",
    "# print(result1)\n",
    "# result2 = accuracy_score(y_test, y_pred)\n",
    "# print(\"Accuracy:\", result2)"
   ]
  },
  {
   "cell_type": "markdown",
   "id": "241940fa",
   "metadata": {},
   "source": [
    "### 保存随机森林分类器，以备下次使用"
   ]
  },
  {
   "cell_type": "code",
   "execution_count": 9,
   "id": "53d20d44",
   "metadata": {},
   "outputs": [],
   "source": [
    "import joblib\n",
    "# joblib.dump(classifier,r\"saved_model/RF_95.pkl\")"
   ]
  },
  {
   "cell_type": "code",
   "execution_count": 31,
   "id": "e0e637db",
   "metadata": {},
   "outputs": [],
   "source": [
    "# 加载保存过的分类器\n",
    "classifier = joblib.load(r\"saved_model/RF_95.pkl\")\n",
    "y_pred = classifier.predict(X_test)"
   ]
  },
  {
   "cell_type": "code",
   "execution_count": 33,
   "id": "c0fcc241",
   "metadata": {},
   "outputs": [],
   "source": [
    "from sklearn.metrics import classification_report, confusion_matrix, accuracy_score\n",
    "'''\n",
    "模型评价函数\n",
    "'''\n",
    "def get_model_report(y_pred, y_test):\n",
    "    result = confusion_matrix(y_test, y_pred)\n",
    "    print(\"Confusion Matrix:\")\n",
    "    print(result)\n",
    "    result1 = classification_report(y_test, y_pred)\n",
    "    print(\"Classification Report:\", )\n",
    "    print(result1)\n",
    "    result2 = accuracy_score(y_test, y_pred)\n",
    "    print(\"Accuracy:\", result2)"
   ]
  },
  {
   "cell_type": "code",
   "execution_count": 34,
   "id": "c34b2fcd",
   "metadata": {},
   "outputs": [
    {
     "name": "stdout",
     "output_type": "stream",
     "text": [
      "Confusion Matrix:\n",
      "[[ 6816    19   176   118    10    87     7    14]\n",
      " [   61  1418    58    12     9     1     1     5]\n",
      " [   93    15 10004   121     2    63     0     6]\n",
      " [   37     1   182  5821     8    21     4     3]\n",
      " [   21     5     5    15  1279    38     0     8]\n",
      " [   50     2    60    55     2  7762     6    20]\n",
      " [   27     1    18     6     0     9   450     1]\n",
      " [   33     4    77    19    12   102     7  1627]]\n",
      "Classification Report:\n",
      "              precision    recall  f1-score   support\n",
      "\n",
      "           0       0.95      0.94      0.95      7247\n",
      "           1       0.97      0.91      0.94      1565\n",
      "           2       0.95      0.97      0.96     10304\n",
      "           3       0.94      0.96      0.95      6077\n",
      "           4       0.97      0.93      0.95      1371\n",
      "           5       0.96      0.98      0.97      7957\n",
      "           6       0.95      0.88      0.91       512\n",
      "           7       0.97      0.86      0.91      1881\n",
      "\n",
      "    accuracy                           0.95     36914\n",
      "   macro avg       0.96      0.93      0.94     36914\n",
      "weighted avg       0.95      0.95      0.95     36914\n",
      "\n",
      "Accuracy: 0.9529446822343827\n"
     ]
    }
   ],
   "source": [
    "get_model_report(y_pred, y_test)"
   ]
  },
  {
   "cell_type": "markdown",
   "id": "d03a8c93",
   "metadata": {},
   "source": [
    "## xgboost 分类"
   ]
  },
  {
   "cell_type": "code",
   "execution_count": 12,
   "id": "83c05fa9",
   "metadata": {},
   "outputs": [],
   "source": [
    "import xgboost as xgb\n",
    "from xgboost import plot_importance\n",
    "\n",
    "# 转化为 xgboost 接受的数据 DMatrix\n",
    "xg_train = xgb.DMatrix(X_train, label=y_train)\n",
    "xg_test = xgb.DMatrix(X_test, label=y_test)"
   ]
  },
  {
   "cell_type": "code",
   "execution_count": 17,
   "id": "3f8c5cba",
   "metadata": {
    "collapsed": true
   },
   "outputs": [
    {
     "name": "stdout",
     "output_type": "stream",
     "text": [
      "[08:47:01] WARNING: C:/Users/Administrator/workspace/xgboost-win64_release_1.5.1/src/learner.cc:576: \n",
      "Parameters: { \"silent\" } might not be used.\n",
      "\n",
      "  This could be a false alarm, with some parameters getting used by language bindings but\n",
      "  then being mistakenly passed down to XGBoost core, or some parameter actually being used\n",
      "  but getting flagged wrongly here. Please open an issue if you find any such cases.\n",
      "\n",
      "\n",
      "[08:47:01] WARNING: C:/Users/Administrator/workspace/xgboost-win64_release_1.5.1/src/learner.cc:1115: Starting in XGBoost 1.3.0, the default evaluation metric used with the objective 'multi:softmax' was changed from 'merror' to 'mlogloss'. Explicitly set eval_metric if you'd like to restore the old behavior.\n",
      "[0]\ttrain-mlogloss:1.67270\ttest-mlogloss:1.67708\n",
      "[1]\ttrain-mlogloss:1.38506\ttest-mlogloss:1.39216\n",
      "[2]\ttrain-mlogloss:1.20619\ttest-mlogloss:1.21737\n",
      "[3]\ttrain-mlogloss:1.03994\ttest-mlogloss:1.05264\n",
      "[4]\ttrain-mlogloss:0.90907\ttest-mlogloss:0.92325\n",
      "[5]\ttrain-mlogloss:0.80055\ttest-mlogloss:0.81633\n",
      "[6]\ttrain-mlogloss:0.70984\ttest-mlogloss:0.72676\n",
      "[7]\ttrain-mlogloss:0.65178\ttest-mlogloss:0.66994\n",
      "[8]\ttrain-mlogloss:0.58778\ttest-mlogloss:0.60617\n",
      "[9]\ttrain-mlogloss:0.53436\ttest-mlogloss:0.55357\n",
      "[10]\ttrain-mlogloss:0.49025\ttest-mlogloss:0.50960\n",
      "[11]\ttrain-mlogloss:0.45543\ttest-mlogloss:0.47543\n",
      "[12]\ttrain-mlogloss:0.42077\ttest-mlogloss:0.44095\n",
      "[13]\ttrain-mlogloss:0.39374\ttest-mlogloss:0.41411\n",
      "[14]\ttrain-mlogloss:0.36574\ttest-mlogloss:0.38603\n",
      "[15]\ttrain-mlogloss:0.34127\ttest-mlogloss:0.36192\n",
      "[16]\ttrain-mlogloss:0.31928\ttest-mlogloss:0.34041\n",
      "[17]\ttrain-mlogloss:0.29808\ttest-mlogloss:0.31920\n",
      "[18]\ttrain-mlogloss:0.27915\ttest-mlogloss:0.30016\n",
      "[19]\ttrain-mlogloss:0.26367\ttest-mlogloss:0.28466\n"
     ]
    }
   ],
   "source": [
    "# params = {\n",
    "#     'booster': 'gbtree',\n",
    "#     'objective': 'multi:softmax',\n",
    "#     'num_class': 8, \n",
    "#     'learning_rate': 0.2,\n",
    "#     'gamma': 0.1,\n",
    "#     'max_depth': 8,\n",
    "#     'lambda': 2,\n",
    "#     'subsample': 0.85,\n",
    "#     'colsample_bytree': 0.85,\n",
    "#     'min_child_weight': 3,\n",
    "#     'silent': 1,\n",
    "#     'eta': 0.05,\n",
    "#     'seed': 1000,\n",
    "#     'nthread': 4,\n",
    "# }\n",
    "\n",
    "# num_round = 20\n",
    "# watchlist = [(xg_train, 'train'), (xg_test, 'test')]\n",
    "# bst = xgb.train(params, xg_train, num_round, watchlist)\n",
    "# pred = bst.predict(xg_test)\n"
   ]
  },
  {
   "cell_type": "code",
   "execution_count": 19,
   "id": "1100022f",
   "metadata": {
    "collapsed": true
   },
   "outputs": [
    {
     "name": "stdout",
     "output_type": "stream",
     "text": [
      "Confusion Matrix:\n",
      "[[6844   24  142  153   17   60    0    7]\n",
      " [  26 1435   77    4    7   15    0    1]\n",
      " [  10   12 9989  178    7  102    0    6]\n",
      " [  42    1  271 5657    9   90    4    3]\n",
      " [  25    3   19   14 1208   82    0   20]\n",
      " [  59    1  108   79    1 7697    1   11]\n",
      " [   2    0   10   15    0    7  477    1]\n",
      " [  26    1   40   25    5   91    3 1690]]\n",
      "Classification Report:\n",
      "              precision    recall  f1-score   support\n",
      "\n",
      "           0       0.97      0.94      0.96      7247\n",
      "           1       0.97      0.92      0.94      1565\n",
      "           2       0.94      0.97      0.95     10304\n",
      "           3       0.92      0.93      0.93      6077\n",
      "           4       0.96      0.88      0.92      1371\n",
      "           5       0.95      0.97      0.96      7957\n",
      "           6       0.98      0.93      0.96       512\n",
      "           7       0.97      0.90      0.93      1881\n",
      "\n",
      "    accuracy                           0.95     36914\n",
      "   macro avg       0.96      0.93      0.94     36914\n",
      "weighted avg       0.95      0.95      0.95     36914\n",
      "\n",
      "Accuracy: 0.9480684835021943\n"
     ]
    }
   ],
   "source": [
    "get_model_report(pred, y_test)"
   ]
  },
  {
   "cell_type": "markdown",
   "id": "b3ce5bae",
   "metadata": {},
   "source": [
    "### 保存 xgboost 模型"
   ]
  },
  {
   "cell_type": "code",
   "execution_count": 20,
   "id": "3985838c",
   "metadata": {},
   "outputs": [
    {
     "name": "stdout",
     "output_type": "stream",
     "text": [
      "保存成功\n"
     ]
    }
   ],
   "source": [
    "# joblib.dump(bst, r'saved_model/xgb_948.pkl')\n",
    "# print('保存成功')"
   ]
  },
  {
   "cell_type": "code",
   "execution_count": 23,
   "id": "81429728",
   "metadata": {},
   "outputs": [],
   "source": [
    "# 加载\n",
    "xgb_classifier = joblib.load('saved_model/xgb_948.pkl')\n",
    "print('加载成功')\n",
    "pred = xgb_classifier.predict(xg_test)"
   ]
  },
  {
   "cell_type": "code",
   "execution_count": 27,
   "id": "2bb55df7",
   "metadata": {
    "scrolled": true
   },
   "outputs": [
    {
     "name": "stdout",
     "output_type": "stream",
     "text": [
      "Confusion Matrix:\n",
      "[[6844   24  142  153   17   60    0    7]\n",
      " [  26 1435   77    4    7   15    0    1]\n",
      " [  10   12 9989  178    7  102    0    6]\n",
      " [  42    1  271 5657    9   90    4    3]\n",
      " [  25    3   19   14 1208   82    0   20]\n",
      " [  59    1  108   79    1 7697    1   11]\n",
      " [   2    0   10   15    0    7  477    1]\n",
      " [  26    1   40   25    5   91    3 1690]]\n",
      "Classification Report:\n",
      "              precision    recall  f1-score   support\n",
      "\n",
      "           0       0.97      0.94      0.96      7247\n",
      "           1       0.97      0.92      0.94      1565\n",
      "           2       0.94      0.97      0.95     10304\n",
      "           3       0.92      0.93      0.93      6077\n",
      "           4       0.96      0.88      0.92      1371\n",
      "           5       0.95      0.97      0.96      7957\n",
      "           6       0.98      0.93      0.96       512\n",
      "           7       0.97      0.90      0.93      1881\n",
      "\n",
      "    accuracy                           0.95     36914\n",
      "   macro avg       0.96      0.93      0.94     36914\n",
      "weighted avg       0.95      0.95      0.95     36914\n",
      "\n",
      "Accuracy: 0.9480684835021943\n"
     ]
    }
   ],
   "source": [
    "get_model_report(pred, y_test)"
   ]
  },
  {
   "cell_type": "code",
   "execution_count": 46,
   "id": "8417d979",
   "metadata": {
    "collapsed": true
   },
   "outputs": [
    {
     "data": {
      "image/png": "[encoded data removed]",
      "text/plain": [
       "<matplotlib.figure.Figure at 0x21dc3a126a0>"
      ]
     },
     "metadata": {
      "needs_background": "light"
     },
     "output_type": "display_data"
    },
    {
     "name": "stdout",
     "output_type": "stream",
     "text": [
      "feature importances[gain]:  [('f13', 60.608917236328125), ('f4', 42.353702545166016), ('f0', 38.59726333618164), ('f12', 37.099830627441406), ('f3', 31.432044982910156), ('f11', 26.747310638427734), ('f2', 12.800101280212402), ('f10', 12.245083808898926), ('f9', 9.02175521850586), ('f5', 7.562046051025391), ('f8', 7.271580696105957), ('f6', 6.079509258270264), ('f7', 5.39450216293335), ('f1', 3.2960164546966553)]\n"
     ]
    }
   ],
   "source": [
    "# 打印特征重要度\n",
    "import matplotlib.pyplot as plt\n",
    "plot_importance(bst)\n",
    "plt.show()\n",
    "importance = bst.get_score(importance_type='gain')\n",
    "sorted_importance = sorted(importance.items(), key=lambda x: x[1], reverse=True)\n",
    "print('feature importances[gain]: ', sorted_importance)\n"
   ]
  },
  {
   "cell_type": "code",
   "execution_count": 47,
   "id": "7e8f9cdd",
   "metadata": {
    "collapsed": true
   },
   "outputs": [
    {
     "data": {
      "text/plain": [
       "[['f0', 'Depth'],\n",
       " ['f1', 'GR'],\n",
       " ['f2', 'INPEFA'],\n",
       " ['f3', 'AC'],\n",
       " ['f4', 'SP'],\n",
       " ['f5', 'Well Name'],\n",
       " ['f6', 'Formation'],\n",
       " ['f7', 'GR_MED_3'],\n",
       " ['f8', 'GR_MED_5'],\n",
       " ['f9', 'GR_MED_7'],\n",
       " ['f10', 'GR_MED_9'],\n",
       " ['f11', 'GR_MED_11'],\n",
       " ['f12', 'GR_MED_13'],\n",
       " ['f13', 'GR_MED_15']]"
      ]
     },
     "execution_count": 47,
     "metadata": {},
     "output_type": "execute_result"
    }
   ],
   "source": [
    "features = []\n",
    "for i, col in zip(range(0, 14), data.columns):\n",
    "    features.append(['f'+str(i), col])\n",
    "features"
   ]
  },
  {
   "cell_type": "markdown",
   "id": "7db4a5f4",
   "metadata": {},
   "source": [
    "## 1DCNN 分类"
   ]
  },
  {
   "cell_type": "code",
   "execution_count": 55,
   "id": "62f46429",
   "metadata": {},
   "outputs": [
    {
     "ename": "AttributeError",
     "evalue": "module 'numpy' has no attribute 'expand_dim'",
     "output_type": "error",
     "traceback": [
      "\u001b[1;31m---------------------------------------------------------------------------\u001b[0m",
      "\u001b[1;31mAttributeError\u001b[0m                            Traceback (most recent call last)",
      "\u001b[1;32m<ipython-input-55-47cd8d6be8eb>\u001b[0m in \u001b[0;36m<module>\u001b[1;34m\u001b[0m\n\u001b[1;32m----> 1\u001b[1;33m \u001b[0mhelp\u001b[0m\u001b[1;33m(\u001b[0m\u001b[0mnp\u001b[0m\u001b[1;33m.\u001b[0m\u001b[0mexpand_dim\u001b[0m\u001b[1;33m(\u001b[0m\u001b[1;33m)\u001b[0m\u001b[1;33m)\u001b[0m\u001b[1;33m\u001b[0m\u001b[0m\n\u001b[0m",
      "\u001b[1;31mAttributeError\u001b[0m: module 'numpy' has no attribute 'expand_dim'"
     ]
    }
   ],
   "source": [
    "help(np.expand_dim())"
   ]
  }
 ],
 "metadata": {
  "kernelspec": {
   "display_name": "Python 3",
   "language": "python",
   "name": "python3"
  },
  "language_info": {
   "codemirror_mode": {
    "name": "ipython",
    "version": 3
   },
   "file_extension": ".py",
   "mimetype": "text/x-python",
   "name": "python",
   "nbconvert_exporter": "python",
   "pygments_lexer": "ipython3",
   "version": "3.6.2"
  }
 },
 "nbformat": 4,
 "nbformat_minor": 5
}
