{
 "cells": [
  {
   "cell_type": "code",
   "execution_count": null,
   "id": "f371a524",
   "metadata": {},
   "outputs": [],
   "source": [
    "print(\"hello, vscode\")"
   ]
  },
  {
   "cell_type": "markdown",
   "id": "19850e02",
   "metadata": {},
   "source": [
    "## hello vscode"
   ]
  }
 ],
 "metadata": {
  "kernelspec": {
   "display_name": "Python 3",
   "language": "python",
   "name": "python3"
  },
  "language_info": {
   "codemirror_mode": {
    "name": "ipython",
    "version": 3
   },
   "file_extension": ".py",
   "mimetype": "text/x-python",
   "name": "python",
   "nbconvert_exporter": "python",
   "pygments_lexer": "ipython3",
   "version": "3.6.2"
  }
 },
 "nbformat": 4,
 "nbformat_minor": 5
}
