{
 "cells": [
  {
   "cell_type": "code",
   "execution_count": 1,
   "id": "0970c046",
   "metadata": {},
   "outputs": [],
   "source": [
    "import pandas as pd"
   ]
  },
  {
   "cell_type": "markdown",
   "id": "d0a920e8",
   "metadata": {},
   "source": [
    "## 导数据"
   ]
  },
  {
   "cell_type": "markdown",
   "id": "3f5f11e6",
   "metadata": {},
   "source": [
    "该数据已做好归一化，待预测的值为Formation"
   ]
  },
  {
   "cell_type": "code",
   "execution_count": 2,
   "id": "8d0b1fb9",
   "metadata": {},
   "outputs": [],
   "source": [
    "data = pd.read_csv(r'../data/ciflog_scalared_fetures_med9.csv')"
   ]
  },
  {
   "cell_type": "code",
   "execution_count": 7,
   "id": "2d6389d2",
   "metadata": {
    "scrolled": true
   },
   "outputs": [
    {
     "data": {
      "text/html": [
       "<div>\n",
       "<style scoped>\n",
       "    .dataframe tbody tr th:only-of-type {\n",
       "        vertical-align: middle;\n",
       "    }\n",
       "\n",
       "    .dataframe tbody tr th {\n",
       "        vertical-align: top;\n",
       "    }\n",
       "\n",
       "    .dataframe thead th {\n",
       "        text-align: right;\n",
       "    }\n",
       "</style>\n",
       "<table border=\"1\" class=\"dataframe\">\n",
       "  <thead>\n",
       "    <tr style=\"text-align: right;\">\n",
       "      <th></th>\n",
       "      <th>Depth</th>\n",
       "      <th>GR</th>\n",
       "      <th>INPEFA</th>\n",
       "      <th>AC</th>\n",
       "      <th>SP</th>\n",
       "      <th>Well Name</th>\n",
       "      <th>Formation</th>\n",
       "      <th>GR_MED_3</th>\n",
       "      <th>GR_MED_5</th>\n",
       "      <th>GR_MED_7</th>\n",
       "      <th>GR_MED_9</th>\n",
       "      <th>GR_MED_11</th>\n",
       "      <th>GR_MED_13</th>\n",
       "      <th>GR_MED_15</th>\n",
       "      <th>GR_MED_17</th>\n",
       "      <th>GR_MED_19</th>\n",
       "    </tr>\n",
       "  </thead>\n",
       "  <tbody>\n",
       "    <tr>\n",
       "      <th>0</th>\n",
       "      <td>-0.129887</td>\n",
       "      <td>0.046275</td>\n",
       "      <td>-0.362624</td>\n",
       "      <td>0.004754</td>\n",
       "      <td>-0.521288</td>\n",
       "      <td>0</td>\n",
       "      <td>0</td>\n",
       "      <td>0.046275</td>\n",
       "      <td>0.046275</td>\n",
       "      <td>0.046275</td>\n",
       "      <td>0.046275</td>\n",
       "      <td>0.046275</td>\n",
       "      <td>0.046275</td>\n",
       "      <td>0.046275</td>\n",
       "      <td>0.046275</td>\n",
       "      <td>0.00114</td>\n",
       "    </tr>\n",
       "    <tr>\n",
       "      <th>1</th>\n",
       "      <td>-0.129605</td>\n",
       "      <td>0.143090</td>\n",
       "      <td>-0.319173</td>\n",
       "      <td>0.004754</td>\n",
       "      <td>-0.548649</td>\n",
       "      <td>0</td>\n",
       "      <td>0</td>\n",
       "      <td>0.143090</td>\n",
       "      <td>0.143090</td>\n",
       "      <td>0.143090</td>\n",
       "      <td>0.143090</td>\n",
       "      <td>0.143090</td>\n",
       "      <td>0.130847</td>\n",
       "      <td>0.062904</td>\n",
       "      <td>0.046275</td>\n",
       "      <td>0.00114</td>\n",
       "    </tr>\n",
       "    <tr>\n",
       "      <th>2</th>\n",
       "      <td>-0.129322</td>\n",
       "      <td>0.223431</td>\n",
       "      <td>-0.448877</td>\n",
       "      <td>0.004754</td>\n",
       "      <td>-0.539525</td>\n",
       "      <td>0</td>\n",
       "      <td>0</td>\n",
       "      <td>0.223431</td>\n",
       "      <td>0.223431</td>\n",
       "      <td>0.223431</td>\n",
       "      <td>0.223431</td>\n",
       "      <td>0.143090</td>\n",
       "      <td>0.130847</td>\n",
       "      <td>0.062904</td>\n",
       "      <td>0.046275</td>\n",
       "      <td>0.00114</td>\n",
       "    </tr>\n",
       "    <tr>\n",
       "      <th>3</th>\n",
       "      <td>-0.129040</td>\n",
       "      <td>0.435575</td>\n",
       "      <td>-0.672778</td>\n",
       "      <td>0.004754</td>\n",
       "      <td>-0.594247</td>\n",
       "      <td>0</td>\n",
       "      <td>0</td>\n",
       "      <td>0.353216</td>\n",
       "      <td>0.279095</td>\n",
       "      <td>0.223502</td>\n",
       "      <td>0.223431</td>\n",
       "      <td>0.143090</td>\n",
       "      <td>0.130847</td>\n",
       "      <td>0.062904</td>\n",
       "      <td>0.046275</td>\n",
       "      <td>0.00114</td>\n",
       "    </tr>\n",
       "    <tr>\n",
       "      <th>4</th>\n",
       "      <td>-0.128757</td>\n",
       "      <td>0.353216</td>\n",
       "      <td>-0.631148</td>\n",
       "      <td>0.004754</td>\n",
       "      <td>-0.621608</td>\n",
       "      <td>0</td>\n",
       "      <td>0</td>\n",
       "      <td>0.353216</td>\n",
       "      <td>0.279095</td>\n",
       "      <td>0.223502</td>\n",
       "      <td>0.223431</td>\n",
       "      <td>0.143090</td>\n",
       "      <td>0.130847</td>\n",
       "      <td>0.062904</td>\n",
       "      <td>0.046275</td>\n",
       "      <td>0.00114</td>\n",
       "    </tr>\n",
       "  </tbody>\n",
       "</table>\n",
       "</div>"
      ],
      "text/plain": [
       "      Depth        GR    INPEFA        AC        SP  Well Name  Formation  \\\n",
       "0 -0.129887  0.046275 -0.362624  0.004754 -0.521288          0          0   \n",
       "1 -0.129605  0.143090 -0.319173  0.004754 -0.548649          0          0   \n",
       "2 -0.129322  0.223431 -0.448877  0.004754 -0.539525          0          0   \n",
       "3 -0.129040  0.435575 -0.672778  0.004754 -0.594247          0          0   \n",
       "4 -0.128757  0.353216 -0.631148  0.004754 -0.621608          0          0   \n",
       "\n",
       "   GR_MED_3  GR_MED_5  GR_MED_7  GR_MED_9  GR_MED_11  GR_MED_13  GR_MED_15  \\\n",
       "0  0.046275  0.046275  0.046275  0.046275   0.046275   0.046275   0.046275   \n",
       "1  0.143090  0.143090  0.143090  0.143090   0.143090   0.130847   0.062904   \n",
       "2  0.223431  0.223431  0.223431  0.223431   0.143090   0.130847   0.062904   \n",
       "3  0.353216  0.279095  0.223502  0.223431   0.143090   0.130847   0.062904   \n",
       "4  0.353216  0.279095  0.223502  0.223431   0.143090   0.130847   0.062904   \n",
       "\n",
       "   GR_MED_17  GR_MED_19  \n",
       "0   0.046275    0.00114  \n",
       "1   0.046275    0.00114  \n",
       "2   0.046275    0.00114  \n",
       "3   0.046275    0.00114  \n",
       "4   0.046275    0.00114  "
      ]
     },
     "execution_count": 7,
     "metadata": {},
     "output_type": "execute_result"
    }
   ],
   "source": [
    "data.head()"
   ]
  },
  {
   "cell_type": "markdown",
   "id": "d76433a1",
   "metadata": {},
   "source": [
    "## 划分训练测试集"
   ]
  },
  {
   "cell_type": "code",
   "execution_count": 3,
   "id": "50586942",
   "metadata": {},
   "outputs": [],
   "source": [
    "y = data['Formation']\n",
    "X = data.drop(['Well Name', 'Formation'], axis=1).values\n",
    "from sklearn.model_selection import train_test_split\n",
    "X_train, X_test, y_train, y_test = train_test_split(X, y, test_size=0.4, random_state=0)"
   ]
  },
  {
   "cell_type": "code",
   "execution_count": 10,
   "id": "b55f2cc3",
   "metadata": {
    "scrolled": true
   },
   "outputs": [
    {
     "data": {
      "text/plain": [
       "((92284, 14), (92284,))"
      ]
     },
     "execution_count": 10,
     "metadata": {},
     "output_type": "execute_result"
    }
   ],
   "source": [
    "X.shape, y.shape"
   ]
  },
  {
   "cell_type": "markdown",
   "id": "b935be26",
   "metadata": {},
   "source": [
    "## 随机森林分类器"
   ]
  },
  {
   "cell_type": "code",
   "execution_count": 4,
   "id": "b9b8fc89",
   "metadata": {
    "collapsed": true
   },
   "outputs": [
    {
     "name": "stdout",
     "output_type": "stream",
     "text": [
      "X_train: [[-1.48412844 -0.18653446 -2.96372113 ... -0.18653446 -0.22280201\n",
      "  -0.23148943]\n",
      " [ 0.38508607  0.05121015  0.35397433 ...  0.02161803  0.02161803\n",
      "   0.02373013]\n",
      " [ 0.6605106   0.52767469 -2.8077126  ...  0.62703422  0.62703422\n",
      "   0.62703422]\n",
      " ...\n",
      " [-1.57254678 -0.31748519 -0.15147994 ... -0.31748519 -0.31748519\n",
      "  -0.31748519]\n",
      " [-1.30305447  0.45475851  0.4133544  ...  0.42556685  0.42556685\n",
      "   0.42556685]\n",
      " [ 1.18282851 -0.4231229  -0.75250516 ... -0.42792198 -0.4231229\n",
      "  -0.41339235]]\n",
      "y_train: 89665    0\n",
      "74706    2\n",
      "77594    2\n",
      "5268     0\n",
      "73158    0\n",
      "        ..\n",
      "21243    2\n",
      "45891    7\n",
      "42613    2\n",
      "43567    2\n",
      "68268    7\n",
      "Name: Formation, Length: 55370, dtype: int64\n"
     ]
    }
   ],
   "source": [
    "# from sklearn.ensemble import RandomForestClassifier\n",
    "# classifier = RandomForestClassifier(n_estimators=50, criterion='entropy', random_state=42)\n",
    "# classifier.fit(X_train, y_train)"
   ]
  },
  {
   "cell_type": "code",
   "execution_count": 5,
   "id": "fb6066b8",
   "metadata": {
    "collapsed": true
   },
   "outputs": [
    {
     "name": "stdout",
     "output_type": "stream",
     "text": [
      "X_test: [[-1.48525839 -0.27347001 -3.0400005  ... -0.22280201 -0.21236742\n",
      "  -0.18653446]\n",
      " [ 1.36729233 -0.45897385 -0.56477524 ... -0.55391215 -0.55391215\n",
      "  -0.55391215]\n",
      " [-0.03045187 -0.26050347 -0.27058852 ... -0.2704827  -0.2704827\n",
      "  -0.2704827 ]\n",
      " ...\n",
      " [ 0.89440959 -0.54309325 -0.4396319  ... -0.54309325 -0.54309325\n",
      "  -0.54309325]\n",
      " [-0.22649764 -0.60925327  0.31703173 ... -0.60527773 -0.5988316\n",
      "  -0.5988316 ]\n",
      " [ 0.9452572  -0.65026499 -0.69619527 ... -0.67644028 -0.67644028\n",
      "  -0.67644028]]\n",
      "y_pred: [0 5 2 ... 5 0 5]\n"
     ]
    }
   ],
   "source": [
    "# y_pred = classifier.predict(X_test)"
   ]
  },
  {
   "cell_type": "code",
   "execution_count": 6,
   "id": "9991cf28",
   "metadata": {
    "collapsed": true
   },
   "outputs": [
    {
     "name": "stdout",
     "output_type": "stream",
     "text": [
      "Confusion Matrix:\n",
      "[[ 6816    19   176   118    10    87     7    14]\n",
      " [   61  1418    58    12     9     1     1     5]\n",
      " [   93    15 10004   121     2    63     0     6]\n",
      " [   37     1   182  5821     8    21     4     3]\n",
      " [   21     5     5    15  1279    38     0     8]\n",
      " [   50     2    60    55     2  7762     6    20]\n",
      " [   27     1    18     6     0     9   450     1]\n",
      " [   33     4    77    19    12   102     7  1627]]\n",
      "Classification Report:\n",
      "              precision    recall  f1-score   support\n",
      "\n",
      "           0       0.95      0.94      0.95      7247\n",
      "           1       0.97      0.91      0.94      1565\n",
      "           2       0.95      0.97      0.96     10304\n",
      "           3       0.94      0.96      0.95      6077\n",
      "           4       0.97      0.93      0.95      1371\n",
      "           5       0.96      0.98      0.97      7957\n",
      "           6       0.95      0.88      0.91       512\n",
      "           7       0.97      0.86      0.91      1881\n",
      "\n",
      "    accuracy                           0.95     36914\n",
      "   macro avg       0.96      0.93      0.94     36914\n",
      "weighted avg       0.95      0.95      0.95     36914\n",
      "\n",
      "Accuracy: 0.9529446822343827\n"
     ]
    }
   ],
   "source": [
    "# from sklearn.metrics import classification_report, confusion_matrix, accuracy_score\n",
    "# result = confusion_matrix(y_test, y_pred)\n",
    "# print(\"Confusion Matrix:\")\n",
    "# print(result)\n",
    "# result1 = classification_report(y_test, y_pred)\n",
    "# print(\"Classification Report:\", )\n",
    "# print(result1)\n",
    "# result2 = accuracy_score(y_test, y_pred)\n",
    "# print(\"Accuracy:\", result2)"
   ]
  },
  {
   "cell_type": "markdown",
   "id": "241940fa",
   "metadata": {},
   "source": [
    "### 保存随机森林分类器，以备下次使用"
   ]
  },
  {
   "cell_type": "code",
   "execution_count": 16,
   "id": "53d20d44",
   "metadata": {},
   "outputs": [
    {
     "data": {
      "text/plain": [
       "['saved_model/RF_95.pkl']"
      ]
     },
     "execution_count": 16,
     "metadata": {},
     "output_type": "execute_result"
    }
   ],
   "source": [
    "# import joblib\n",
    "# joblib.dump(classifier,r\"saved_model/RF_95.pkl\")"
   ]
  },
  {
   "cell_type": "code",
   "execution_count": 19,
   "id": "e0e637db",
   "metadata": {},
   "outputs": [],
   "source": [
    "# 加载保存过的分类器\n",
    "classifier = joblib.load(r\"saved_model/RF_95.pkl\")\n",
    "y_pred = classifier.predict(X_test)"
   ]
  },
  {
   "cell_type": "code",
   "execution_count": 20,
   "id": "c0fcc241",
   "metadata": {},
   "outputs": [
    {
     "name": "stdout",
     "output_type": "stream",
     "text": [
      "Confusion Matrix:\n",
      "[[ 6816    19   176   118    10    87     7    14]\n",
      " [   61  1418    58    12     9     1     1     5]\n",
      " [   93    15 10004   121     2    63     0     6]\n",
      " [   37     1   182  5821     8    21     4     3]\n",
      " [   21     5     5    15  1279    38     0     8]\n",
      " [   50     2    60    55     2  7762     6    20]\n",
      " [   27     1    18     6     0     9   450     1]\n",
      " [   33     4    77    19    12   102     7  1627]]\n",
      "Classification Report:\n",
      "              precision    recall  f1-score   support\n",
      "\n",
      "           0       0.95      0.94      0.95      7247\n",
      "           1       0.97      0.91      0.94      1565\n",
      "           2       0.95      0.97      0.96     10304\n",
      "           3       0.94      0.96      0.95      6077\n",
      "           4       0.97      0.93      0.95      1371\n",
      "           5       0.96      0.98      0.97      7957\n",
      "           6       0.95      0.88      0.91       512\n",
      "           7       0.97      0.86      0.91      1881\n",
      "\n",
      "    accuracy                           0.95     36914\n",
      "   macro avg       0.96      0.93      0.94     36914\n",
      "weighted avg       0.95      0.95      0.95     36914\n",
      "\n",
      "Accuracy: 0.9529446822343827\n"
     ]
    }
   ],
   "source": [
    "from sklearn.metrics import classification_report, confusion_matrix, accuracy_score\n",
    "result = confusion_matrix(y_test, y_pred)\n",
    "print(\"Confusion Matrix:\")\n",
    "print(result)\n",
    "result1 = classification_report(y_test, y_pred)\n",
    "print(\"Classification Report:\", )\n",
    "print(result1)\n",
    "result2 = accuracy_score(y_test, y_pred)\n",
    "print(\"Accuracy:\", result2)"
   ]
  }
 ],
 "metadata": {
  "kernelspec": {
   "display_name": "Python 3",
   "language": "python",
   "name": "python3"
  },
  "language_info": {
   "codemirror_mode": {
    "name": "ipython",
    "version": 3
   },
   "file_extension": ".py",
   "mimetype": "text/x-python",
   "name": "python",
   "nbconvert_exporter": "python",
   "pygments_lexer": "ipython3",
   "version": "3.6.2"
  }
 },
 "nbformat": 4,
 "nbformat_minor": 5
}
